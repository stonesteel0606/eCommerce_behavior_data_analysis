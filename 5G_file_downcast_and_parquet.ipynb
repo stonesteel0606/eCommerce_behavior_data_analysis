{
 "cells": [
  {
   "cell_type": "markdown",
   "id": "e762ccfe",
   "metadata": {},
   "source": [
    "## 대용량 데이터(5G) 용량 줄이기\n",
    "1. csv 파일 로드하기 : pd.read_csv('data/2019-Oct.csv')\n",
    "2. column 별 데이터 값 확인하여 필요 없는 col 없애기 : df.drop(columns=[])\n",
    "3. 각 열 데이터 형식 확인하기\n",
    "4. 각 열 downcast 하기 : pd.to_numeric(df[col], downcast='')\n",
    " => for 문을 통해 자동으로 변환하기\n",
    "5. parquet.gzip으로 파일 저장하기 : df.to_parquet(file_name, index=False)"
   ]
  },
  {
   "cell_type": "code",
   "execution_count": 24,
   "id": "7d9b6321",
   "metadata": {},
   "outputs": [],
   "source": [
    "import pandas as pd"
   ]
  },
  {
   "cell_type": "code",
   "execution_count": 25,
   "id": "7a798f08",
   "metadata": {},
   "outputs": [
    {
     "name": "stdout",
     "output_type": "stream",
     "text": [
      "<class 'pandas.core.frame.DataFrame'>\n",
      "RangeIndex: 42448764 entries, 0 to 42448763\n",
      "Data columns (total 9 columns):\n",
      " #   Column         Dtype  \n",
      "---  ------         -----  \n",
      " 0   event_time     object \n",
      " 1   event_type     object \n",
      " 2   product_id     int64  \n",
      " 3   category_id    int64  \n",
      " 4   category_code  object \n",
      " 5   brand          object \n",
      " 6   price          float64\n",
      " 7   user_id        int64  \n",
      " 8   user_session   object \n",
      "dtypes: float64(1), int64(3), object(5)\n",
      "memory usage: 2.8+ GB\n"
     ]
    }
   ],
   "source": [
    "df = pd.read_csv('data/2019-Oct.csv')\n",
    "df.info()"
   ]
  },
  {
   "cell_type": "code",
   "execution_count": 26,
   "id": "8c865dfc",
   "metadata": {},
   "outputs": [
    {
     "data": {
      "text/plain": [
       "(42448764, 9)"
      ]
     },
     "execution_count": 26,
     "metadata": {},
     "output_type": "execute_result"
    }
   ],
   "source": [
    "df_down = df.copy()\n",
    "df_down.shape"
   ]
  },
  {
   "cell_type": "code",
   "execution_count": 27,
   "id": "d477eeef",
   "metadata": {},
   "outputs": [
    {
     "name": "stdout",
     "output_type": "stream",
     "text": [
      "<class 'pandas.core.frame.DataFrame'>\n",
      "RangeIndex: 42448764 entries, 0 to 42448763\n",
      "Data columns (total 4 columns):\n",
      " #   Column      Dtype  \n",
      "---  ------      -----  \n",
      " 0   event_time  object \n",
      " 1   event_type  object \n",
      " 2   price       float64\n",
      " 3   user_id     int64  \n",
      "dtypes: float64(1), int64(1), object(2)\n",
      "memory usage: 1.3+ GB\n"
     ]
    }
   ],
   "source": [
    "df_down = df_down.drop(columns=['product_id', 'category_id', \n",
    "                                'category_code', 'brand', 'user_session'])\n",
    "df_down.info()"
   ]
  },
  {
   "cell_type": "code",
   "execution_count": 28,
   "id": "8eeb5f95",
   "metadata": {},
   "outputs": [
    {
     "data": {
      "text/plain": [
       "event_time    0\n",
       "event_type    0\n",
       "price         0\n",
       "user_id       0\n",
       "dtype: int64"
      ]
     },
     "execution_count": 28,
     "metadata": {},
     "output_type": "execute_result"
    }
   ],
   "source": [
    "df_down.isnull().sum()"
   ]
  },
  {
   "cell_type": "code",
   "execution_count": 29,
   "id": "fc3cf4ff",
   "metadata": {},
   "outputs": [],
   "source": [
    "df_down = df_down.drop_duplicates()\n"
   ]
  },
  {
   "cell_type": "code",
   "execution_count": 31,
   "id": "59521a47",
   "metadata": {},
   "outputs": [
    {
     "data": {
      "text/plain": [
       "((42413435, 4), (42448764, 9))"
      ]
     },
     "execution_count": 31,
     "metadata": {},
     "output_type": "execute_result"
    }
   ],
   "source": [
    "df_down.shape, df.shape"
   ]
  },
  {
   "cell_type": "code",
   "execution_count": 30,
   "id": "0b828bd9",
   "metadata": {},
   "outputs": [],
   "source": [
    "for col in df_down.columns:\n",
    "    \n",
    "    if df_down[col].dtypes.name.startswith('int'):\n",
    "        if df_down[col].min() < 0:\n",
    "            df_down[col] = pd.to_numeric(df_down[col], downcast='integer')\n",
    "        else:\n",
    "            df_down[col] = pd.to_numeric(df_down[col], downcast='unsigned')\n",
    "    \n",
    "    elif df_down[col].dtypes.name.startswith('float'):\n",
    "        df_down[col] = pd.to_numeric(df_down[col], downcast='float')\n",
    "        \n",
    "    elif df_down[col].dtypes.name.startswith('object'):\n",
    "        df_down[col] = df_down[col].astype('category') "
   ]
  },
  {
   "cell_type": "code",
   "execution_count": 32,
   "id": "f789d15c",
   "metadata": {},
   "outputs": [
    {
     "name": "stdout",
     "output_type": "stream",
     "text": [
      "<class 'pandas.core.frame.DataFrame'>\n",
      "Int64Index: 42413435 entries, 0 to 42448763\n",
      "Data columns (total 4 columns):\n",
      " #   Column      Dtype   \n",
      "---  ------      -----   \n",
      " 0   event_time  category\n",
      " 1   event_type  category\n",
      " 2   price       float32 \n",
      " 3   user_id     uint32  \n",
      "dtypes: category(2), float32(1), uint32(1)\n",
      "memory usage: 933.9 MB\n"
     ]
    }
   ],
   "source": [
    "df_down.info()"
   ]
  },
  {
   "cell_type": "code",
   "execution_count": 43,
   "id": "744ac6b1",
   "metadata": {},
   "outputs": [],
   "source": [
    "df_down['event_time'] = pd.to_datetime(df_down['event_time'])"
   ]
  },
  {
   "cell_type": "code",
   "execution_count": 38,
   "id": "6e179bf6",
   "metadata": {},
   "outputs": [
    {
     "name": "stdout",
     "output_type": "stream",
     "text": [
      "<class 'pandas.core.frame.DataFrame'>\n",
      "RangeIndex: 42448764 entries, 0 to 42448763\n",
      "Data columns (total 9 columns):\n",
      " #   Column         Dtype  \n",
      "---  ------         -----  \n",
      " 0   event_time     object \n",
      " 1   event_type     object \n",
      " 2   product_id     int64  \n",
      " 3   category_id    int64  \n",
      " 4   category_code  object \n",
      " 5   brand          object \n",
      " 6   price          float64\n",
      " 7   user_id        int64  \n",
      " 8   user_session   object \n",
      "dtypes: float64(1), int64(3), object(5)\n",
      "memory usage: 2.8+ GB\n",
      "<class 'pandas.core.frame.DataFrame'>\n",
      "Int64Index: 42413435 entries, 0 to 42448763\n",
      "Data columns (total 4 columns):\n",
      " #   Column      Dtype   \n",
      "---  ------      -----   \n",
      " 0   event_time  category\n",
      " 1   event_type  category\n",
      " 2   price       float32 \n",
      " 3   user_id     uint32  \n",
      "dtypes: category(2), float32(1), uint32(1)\n",
      "memory usage: 933.9 MB\n"
     ]
    },
    {
     "data": {
      "text/plain": [
       "(None, None)"
      ]
     },
     "execution_count": 38,
     "metadata": {},
     "output_type": "execute_result"
    }
   ],
   "source": [
    "df.info(), df_down.info()"
   ]
  },
  {
   "cell_type": "markdown",
   "id": "78d541df",
   "metadata": {},
   "source": [
    "# parquet 포멧으로 파일 저장하기\n",
    "- donwcast 후 csv 파일과 parquet 저장한 파일 용량 비교하기"
   ]
  },
  {
   "cell_type": "code",
   "execution_count": 44,
   "id": "6b2045af",
   "metadata": {},
   "outputs": [],
   "source": [
    "import os"
   ]
  },
  {
   "cell_type": "code",
   "execution_count": 45,
   "id": "96619799",
   "metadata": {},
   "outputs": [],
   "source": [
    "def convert_bytes(num):\n",
    "    \"\"\"\n",
    "    1024 보다 크면 숫자를 나누고 아니면 숫자와 단위를 표시하도록\n",
    "    for문을 돌면서 값을 1024로 나누고 \n",
    "    값이 1024 보다 작다면 단위와 함께 num 을 반횐\n",
    "    \"\"\"\n",
    "    for file_size in ['bytes', 'KB', 'MB', 'GB', 'TB']:\n",
    "        if num < 1024:\n",
    "            return f'{num:.2f}{file_size}'\n",
    "            break\n",
    "        num /= 1024"
   ]
  },
  {
   "cell_type": "code",
   "execution_count": 46,
   "id": "757bf944",
   "metadata": {},
   "outputs": [],
   "source": [
    "def file_size(file_path):\n",
    "    \"\"\"\n",
    "    파일이 있다면 convert_bytes 함수를 통해 크기를 구함\n",
    "    \"\"\"\n",
    "    if os.path.isfile(file_path):\n",
    "        file_info = os.stat(file_path)\n",
    "        return convert_bytes(file_info.st_size)"
   ]
  },
  {
   "cell_type": "code",
   "execution_count": 47,
   "id": "bf30b5a1",
   "metadata": {},
   "outputs": [],
   "source": [
    "def compare_csv_parquet(df):\n",
    "    \"\"\"\n",
    "    데이터프레임을 csv 와 parquet형식으로 저장하하고 각 파일 사이즈를 dict 형태로 반환\n",
    "    \"\"\"\n",
    "    file_path_parquet = 'data/2019-Oct_downcast.parquet.gzip'\n",
    "    file_path_csv = 'data/2019-Oct.csv'\n",
    "    \n",
    "    df_down.to_parquet(file_path_parquet, compression='gzip', index=False)\n",
    "    \n",
    "    return ({'parquet': file_size(file_path_parquet), 'csv': file_size(file_path_csv)})"
   ]
  },
  {
   "cell_type": "code",
   "execution_count": 48,
   "id": "3815ee3a",
   "metadata": {},
   "outputs": [
    {
     "data": {
      "text/plain": [
       "{'parquet': '191.44MB', 'csv': '5.28GB'}"
      ]
     },
     "execution_count": 48,
     "metadata": {},
     "output_type": "execute_result"
    }
   ],
   "source": [
    "compare_csv_parquet(df_down)"
   ]
  },
  {
   "cell_type": "code",
   "execution_count": null,
   "id": "fb626014",
   "metadata": {},
   "outputs": [],
   "source": []
  }
 ],
 "metadata": {
  "kernelspec": {
   "display_name": "Python 3 (ipykernel)",
   "language": "python",
   "name": "python3"
  },
  "language_info": {
   "codemirror_mode": {
    "name": "ipython",
    "version": 3
   },
   "file_extension": ".py",
   "mimetype": "text/x-python",
   "name": "python",
   "nbconvert_exporter": "python",
   "pygments_lexer": "ipython3",
   "version": "3.9.13"
  }
 },
 "nbformat": 4,
 "nbformat_minor": 5
}
