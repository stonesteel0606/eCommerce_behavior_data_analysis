{
 "cells": [
  {
   "cell_type": "markdown",
   "id": "e762ccfe",
   "metadata": {},
   "source": [
    "## 대용량 데이터(5G) 용량 줄이기\n",
    "1. csv 파일 로드하기 : pd.read_csv('data/2019-Oct.csv')\n",
    "2. column 별 데이터 값 확인하여 필요 없는 col 없애기 : df.drop(columns=[])\n",
    "3. 각 열 데이터 형식 확인하기\n",
    "4. 각 열 downcast 하기 : pd.to_numeric(df[col], downcast='')\n",
    " => for 문을 통해 자동으로 변환하기\n",
    "5. parquet.gzip으로 파일 저장하기 : df.to_parquet(file_name, index=False)"
   ]
  },
  {
   "cell_type": "code",
   "execution_count": 1,
   "id": "7d9b6321",
   "metadata": {},
   "outputs": [],
   "source": [
    "import pandas as pd"
   ]
  },
  {
   "cell_type": "code",
   "execution_count": 2,
   "id": "7a798f08",
   "metadata": {},
   "outputs": [
    {
     "name": "stdout",
     "output_type": "stream",
     "text": [
      "<class 'pandas.core.frame.DataFrame'>\n",
      "RangeIndex: 42448764 entries, 0 to 42448763\n",
      "Data columns (total 9 columns):\n",
      " #   Column         Dtype  \n",
      "---  ------         -----  \n",
      " 0   event_time     object \n",
      " 1   event_type     object \n",
      " 2   product_id     int64  \n",
      " 3   category_id    int64  \n",
      " 4   category_code  object \n",
      " 5   brand          object \n",
      " 6   price          float64\n",
      " 7   user_id        int64  \n",
      " 8   user_session   object \n",
      "dtypes: float64(1), int64(3), object(5)\n",
      "memory usage: 2.8+ GB\n"
     ]
    }
   ],
   "source": [
    "df = pd.read_csv('data/2019-Oct.csv')\n",
    "df.info()"
   ]
  },
  {
   "cell_type": "code",
   "execution_count": 3,
   "id": "8c865dfc",
   "metadata": {},
   "outputs": [
    {
     "name": "stdout",
     "output_type": "stream",
     "text": [
      "<class 'pandas.core.frame.DataFrame'>\n",
      "RangeIndex: 42448764 entries, 0 to 42448763\n",
      "Data columns (total 9 columns):\n",
      " #   Column         Dtype  \n",
      "---  ------         -----  \n",
      " 0   event_time     object \n",
      " 1   event_type     object \n",
      " 2   product_id     int64  \n",
      " 3   category_id    int64  \n",
      " 4   category_code  object \n",
      " 5   brand          object \n",
      " 6   price          float64\n",
      " 7   user_id        int64  \n",
      " 8   user_session   object \n",
      "dtypes: float64(1), int64(3), object(5)\n",
      "memory usage: 2.8+ GB\n"
     ]
    }
   ],
   "source": [
    "df_down = df.copy()\n",
    "df_down.info()"
   ]
  },
  {
   "cell_type": "code",
   "execution_count": 4,
   "id": "d477eeef",
   "metadata": {},
   "outputs": [
    {
     "data": {
      "text/plain": [
       "array(['view', 'purchase', 'cart'], dtype=object)"
      ]
     },
     "execution_count": 4,
     "metadata": {},
     "output_type": "execute_result"
    }
   ],
   "source": [
    "df['event_type'].unique()"
   ]
  },
  {
   "cell_type": "code",
   "execution_count": 5,
   "id": "4b1d4b1c",
   "metadata": {},
   "outputs": [
    {
     "name": "stdout",
     "output_type": "stream",
     "text": [
      "event_time nunique : 2621538\n",
      "event_type nunique : 3\n",
      "category_code nunique : 126\n",
      "brand nunique : 3444\n",
      "user_session nunique : 9244421\n"
     ]
    }
   ],
   "source": [
    "# data type 이 object인 열이 범주형 데이터가 들어있는지 확인하기\n",
    "# event_time 은 날짜 데이터,  \n",
    "for col in df_down.columns:\n",
    "    if df_down[col].dtypes.name.startswith('object'):\n",
    "        print(f'{col} nunique : {df[col].nunique()}')"
   ]
  },
  {
   "cell_type": "code",
   "execution_count": 8,
   "id": "8eeb5f95",
   "metadata": {},
   "outputs": [
    {
     "data": {
      "text/plain": [
       "event_time              0\n",
       "event_type              0\n",
       "product_id              0\n",
       "category_id             0\n",
       "category_code    13515609\n",
       "brand             6117080\n",
       "price                   0\n",
       "user_id                 0\n",
       "user_session            2\n",
       "dtype: int64"
      ]
     },
     "execution_count": 8,
     "metadata": {},
     "output_type": "execute_result"
    }
   ],
   "source": [
    "df_down.isnull().sum()"
   ]
  },
  {
   "cell_type": "code",
   "execution_count": 7,
   "id": "0b828bd9",
   "metadata": {},
   "outputs": [],
   "source": [
    "for col in df_down.columns:\n",
    "    \n",
    "    if df_down[col].dtypes.name.startswith('int'):\n",
    "        if df_down[col].min() < 0:\n",
    "            df_down[col] = pd.to_numeric(df_down[col], downcast='integer')\n",
    "        else:\n",
    "            df_down[col] = pd.to_numeric(df_down[col], downcast='unsigned')\n",
    "    \n",
    "    elif df_down[col].dtypes.name.startswith('float'):\n",
    "        df_down[col] = pd.to_numeric(df_down[col], downcast='float')\n",
    "        \n",
    "    elif df_down[col].dtypes.name.startswith('object') & (df_down[col].nunique() < 3500):\n",
    "        df_down[col] = df_down[col].astype('category') "
   ]
  },
  {
   "cell_type": "code",
   "execution_count": 9,
   "id": "f789d15c",
   "metadata": {},
   "outputs": [
    {
     "data": {
      "text/html": [
       "<div>\n",
       "<style scoped>\n",
       "    .dataframe tbody tr th:only-of-type {\n",
       "        vertical-align: middle;\n",
       "    }\n",
       "\n",
       "    .dataframe tbody tr th {\n",
       "        vertical-align: top;\n",
       "    }\n",
       "\n",
       "    .dataframe thead th {\n",
       "        text-align: right;\n",
       "    }\n",
       "</style>\n",
       "<table border=\"1\" class=\"dataframe\">\n",
       "  <thead>\n",
       "    <tr style=\"text-align: right;\">\n",
       "      <th></th>\n",
       "      <th>product_id</th>\n",
       "      <th>category_id</th>\n",
       "      <th>price</th>\n",
       "      <th>user_id</th>\n",
       "    </tr>\n",
       "  </thead>\n",
       "  <tbody>\n",
       "    <tr>\n",
       "      <th>count</th>\n",
       "      <td>4.244876e+07</td>\n",
       "      <td>4.244876e+07</td>\n",
       "      <td>4.244876e+07</td>\n",
       "      <td>4.244876e+07</td>\n",
       "    </tr>\n",
       "    <tr>\n",
       "      <th>mean</th>\n",
       "      <td>1.054993e+07</td>\n",
       "      <td>2.057404e+18</td>\n",
       "      <td>2.903238e+02</td>\n",
       "      <td>5.335371e+08</td>\n",
       "    </tr>\n",
       "    <tr>\n",
       "      <th>std</th>\n",
       "      <td>1.188191e+07</td>\n",
       "      <td>1.843926e+16</td>\n",
       "      <td>3.363253e+02</td>\n",
       "      <td>1.852374e+07</td>\n",
       "    </tr>\n",
       "    <tr>\n",
       "      <th>min</th>\n",
       "      <td>1.000978e+06</td>\n",
       "      <td>2.053014e+18</td>\n",
       "      <td>0.000000e+00</td>\n",
       "      <td>3.386938e+07</td>\n",
       "    </tr>\n",
       "    <tr>\n",
       "      <th>25%</th>\n",
       "      <td>1.005157e+06</td>\n",
       "      <td>2.053014e+18</td>\n",
       "      <td>6.598000e+01</td>\n",
       "      <td>5.159043e+08</td>\n",
       "    </tr>\n",
       "    <tr>\n",
       "      <th>50%</th>\n",
       "      <td>5.000470e+06</td>\n",
       "      <td>2.053014e+18</td>\n",
       "      <td>1.629300e+02</td>\n",
       "      <td>5.296965e+08</td>\n",
       "    </tr>\n",
       "    <tr>\n",
       "      <th>75%</th>\n",
       "      <td>1.600030e+07</td>\n",
       "      <td>2.053014e+18</td>\n",
       "      <td>3.585700e+02</td>\n",
       "      <td>5.515788e+08</td>\n",
       "    </tr>\n",
       "    <tr>\n",
       "      <th>max</th>\n",
       "      <td>6.050001e+07</td>\n",
       "      <td>2.175420e+18</td>\n",
       "      <td>2.574070e+03</td>\n",
       "      <td>5.662809e+08</td>\n",
       "    </tr>\n",
       "  </tbody>\n",
       "</table>\n",
       "</div>"
      ],
      "text/plain": [
       "         product_id   category_id         price       user_id\n",
       "count  4.244876e+07  4.244876e+07  4.244876e+07  4.244876e+07\n",
       "mean   1.054993e+07  2.057404e+18  2.903238e+02  5.335371e+08\n",
       "std    1.188191e+07  1.843926e+16  3.363253e+02  1.852374e+07\n",
       "min    1.000978e+06  2.053014e+18  0.000000e+00  3.386938e+07\n",
       "25%    1.005157e+06  2.053014e+18  6.598000e+01  5.159043e+08\n",
       "50%    5.000470e+06  2.053014e+18  1.629300e+02  5.296965e+08\n",
       "75%    1.600030e+07  2.053014e+18  3.585700e+02  5.515788e+08\n",
       "max    6.050001e+07  2.175420e+18  2.574070e+03  5.662809e+08"
      ]
     },
     "execution_count": 9,
     "metadata": {},
     "output_type": "execute_result"
    }
   ],
   "source": [
    "df_down.describe()"
   ]
  },
  {
   "cell_type": "code",
   "execution_count": 10,
   "id": "60642cb1",
   "metadata": {},
   "outputs": [
    {
     "data": {
      "text/plain": [
       "event_time              0\n",
       "event_type              0\n",
       "product_id              0\n",
       "category_id             0\n",
       "category_code    13515609\n",
       "brand             6117080\n",
       "price                   0\n",
       "user_id                 0\n",
       "user_session            2\n",
       "dtype: int64"
      ]
     },
     "execution_count": 10,
     "metadata": {},
     "output_type": "execute_result"
    }
   ],
   "source": [
    "df_down.isnull().sum()"
   ]
  },
  {
   "cell_type": "code",
   "execution_count": 11,
   "id": "a3637cbb",
   "metadata": {},
   "outputs": [
    {
     "name": "stdout",
     "output_type": "stream",
     "text": [
      "<class 'pandas.core.frame.DataFrame'>\n",
      "RangeIndex: 42448764 entries, 0 to 42448763\n",
      "Data columns (total 7 columns):\n",
      " #   Column       Dtype   \n",
      "---  ------       -----   \n",
      " 0   event_time   object  \n",
      " 1   event_type   category\n",
      " 2   product_id   uint32  \n",
      " 3   category_id  uint64  \n",
      " 4   brand        category\n",
      " 5   price        float32 \n",
      " 6   user_id      uint32  \n",
      "dtypes: category(2), float32(1), object(1), uint32(2), uint64(1)\n",
      "memory usage: 1.2+ GB\n"
     ]
    }
   ],
   "source": [
    "df_down = df_down.drop(columns=['category_code', 'user_session'])\n",
    "df_down.info()"
   ]
  },
  {
   "cell_type": "code",
   "execution_count": 12,
   "id": "744ac6b1",
   "metadata": {},
   "outputs": [],
   "source": [
    "df_down['event_time'] = pd.to_datetime(df_down['event_time'])"
   ]
  },
  {
   "cell_type": "code",
   "execution_count": 13,
   "id": "6b8ef2fd",
   "metadata": {},
   "outputs": [
    {
     "name": "stdout",
     "output_type": "stream",
     "text": [
      "<class 'pandas.core.frame.DataFrame'>\n",
      "RangeIndex: 42448764 entries, 0 to 42448763\n",
      "Data columns (total 9 columns):\n",
      " #   Column         Dtype  \n",
      "---  ------         -----  \n",
      " 0   event_time     object \n",
      " 1   event_type     object \n",
      " 2   product_id     int64  \n",
      " 3   category_id    int64  \n",
      " 4   category_code  object \n",
      " 5   brand          object \n",
      " 6   price          float64\n",
      " 7   user_id        int64  \n",
      " 8   user_session   object \n",
      "dtypes: float64(1), int64(3), object(5)\n",
      "memory usage: 2.8+ GB\n"
     ]
    }
   ],
   "source": [
    "df.info()"
   ]
  },
  {
   "cell_type": "code",
   "execution_count": 14,
   "id": "e24d84ef",
   "metadata": {},
   "outputs": [
    {
     "name": "stdout",
     "output_type": "stream",
     "text": [
      "<class 'pandas.core.frame.DataFrame'>\n",
      "RangeIndex: 42448764 entries, 0 to 42448763\n",
      "Data columns (total 7 columns):\n",
      " #   Column       Dtype              \n",
      "---  ------       -----              \n",
      " 0   event_time   datetime64[ns, UTC]\n",
      " 1   event_type   category           \n",
      " 2   product_id   uint32             \n",
      " 3   category_id  uint64             \n",
      " 4   brand        category           \n",
      " 5   price        float32            \n",
      " 6   user_id      uint32             \n",
      "dtypes: category(2), datetime64[ns, UTC](1), float32(1), uint32(2), uint64(1)\n",
      "memory usage: 1.2 GB\n"
     ]
    }
   ],
   "source": [
    "df_down.info()"
   ]
  },
  {
   "cell_type": "markdown",
   "id": "78d541df",
   "metadata": {},
   "source": [
    "# parquet 포멧으로 파일 저장하기\n",
    "- donwcast 후 csv 파일과 parquet 저장한 파일 용량 비교하기"
   ]
  },
  {
   "cell_type": "code",
   "execution_count": 15,
   "id": "6b2045af",
   "metadata": {},
   "outputs": [],
   "source": [
    "import os"
   ]
  },
  {
   "cell_type": "code",
   "execution_count": 16,
   "id": "96619799",
   "metadata": {},
   "outputs": [],
   "source": [
    "def convert_bytes(num):\n",
    "    \"\"\"\n",
    "    1024 보다 크면 숫자를 나누고 아니면 숫자와 단위를 표시하도록\n",
    "    for문을 돌면서 값을 1024로 나누고 \n",
    "    값이 1024 보다 작다면 단위와 함께 num 을 반횐\n",
    "    \"\"\"\n",
    "    for file_size in ['bytes', 'KB', 'MB', 'GB', 'TB']:\n",
    "        if num < 1024:\n",
    "            return f'{num:.2f}{file_size}'\n",
    "            break\n",
    "        num /= 1024"
   ]
  },
  {
   "cell_type": "code",
   "execution_count": 17,
   "id": "757bf944",
   "metadata": {},
   "outputs": [],
   "source": [
    "def file_size(file_path):\n",
    "    \"\"\"\n",
    "    파일이 있다면 convert_bytes 함수를 통해 크기를 구함\n",
    "    \"\"\"\n",
    "    if os.path.isfile(file_path):\n",
    "        file_info = os.stat(file_path)\n",
    "        return convert_bytes(file_info.st_size)"
   ]
  },
  {
   "cell_type": "code",
   "execution_count": 18,
   "id": "bf30b5a1",
   "metadata": {},
   "outputs": [],
   "source": [
    "def compare_csv_parquet(df):\n",
    "    \"\"\"\n",
    "    데이터프레임을 csv 와 parquet형식으로 저장하하고 각 파일 사이즈를 dict 형태로 반환\n",
    "    \"\"\"\n",
    "    file_path_parquet = 'data/2019-Oct_downcast.parquet.gzip'\n",
    "    file_path_csv = 'data/2019-Oct.csv'\n",
    "    \n",
    "    df_down.to_parquet(file_path_parquet, compression='gzip', index=False)\n",
    "    \n",
    "    return ({'parquet': file_size(file_path_parquet), 'csv': file_size(file_path_csv)})"
   ]
  },
  {
   "cell_type": "code",
   "execution_count": 19,
   "id": "3815ee3a",
   "metadata": {},
   "outputs": [
    {
     "data": {
      "text/plain": [
       "{'parquet': '377.87MB', 'csv': '5.28GB'}"
      ]
     },
     "execution_count": 19,
     "metadata": {},
     "output_type": "execute_result"
    }
   ],
   "source": [
    "compare_csv_parquet(df_down)"
   ]
  },
  {
   "cell_type": "code",
   "execution_count": null,
   "id": "fb626014",
   "metadata": {},
   "outputs": [],
   "source": []
  }
 ],
 "metadata": {
  "kernelspec": {
   "display_name": "Python 3 (ipykernel)",
   "language": "python",
   "name": "python3"
  },
  "language_info": {
   "codemirror_mode": {
    "name": "ipython",
    "version": 3
   },
   "file_extension": ".py",
   "mimetype": "text/x-python",
   "name": "python",
   "nbconvert_exporter": "python",
   "pygments_lexer": "ipython3",
   "version": "3.9.13"
  }
 },
 "nbformat": 4,
 "nbformat_minor": 5
}
