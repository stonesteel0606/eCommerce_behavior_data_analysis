{
 "cells": [
  {
   "cell_type": "markdown",
   "id": "d138780f",
   "metadata": {},
   "source": [
    "### ARPU(Average Revenue Per User)\n",
    "\n",
    ": 인당 평균 매출/\n",
    "말 그대로  사용자 1명당 매출   \n",
    "user_id를 nunique() 한 값으로 전체 매출을 나누면 된다.\n",
    "\n",
    "​\n",
    "\n",
    "### ARPPU(Average Revenue Per Paying User)\n",
    "\n",
    ":  결제자 인당 평균 매출로 \n",
    "\n",
    "위에 ARPU 달리 결제자  만  대상으로 함  \n",
    "구매한 사람의 nunique() 값으로 전체 매출을 나누면 된다  \n",
    "[출처] [WIL] 데이터 분석가도 알아야 해요 마케팅 용어1|작성자 어쩌다 망상가  \n",
    "\n",
    "\n",
    "​\n",
    "\n",
    "\n",
    "### DAU(​Daily Active Users)\n",
    "\n",
    ":하루 동안 해당 서비스를 이용한 순수한 이용자 수를 나타내는 지표.   \n",
    "날짜별 그룹화하여 user_id를 nunique하면 된다.\n",
    "\n",
    "\n",
    "​\n",
    "\n",
    "\n",
    "### MAU(​Monthly Active Users)\n",
    "\n",
    ":한 달 동안 해당 서비스를 이용한 순수한 이용자 수를 나타내는 지표.  \n",
    "\n",
    "달로 그룹화하여 user_id를 nunique() 하면 된다.  \n",
    "[출처] [WIL] 데이터 분석가도 알아야 해요 마케팅 용어1|작성자 어쩌다 망상가\n",
    "\n",
    "\n",
    "​\n",
    "\n",
    "\n",
    "RFM 분석은 고객 분석 방법 중 하나로, 고객의 거래 내역 데이터를 기반으로 고객을 분류하는 기법입니다.  \n",
    "RFM은 Recency, Frequency, Monetary의 약어로 각각 최근성, 빈도, 금액을 의미합니다.  \n",
    "\n",
    "- Recency(최근성) : 고객이 얼마나 최근에 구매를 했는지를 나타내며, 최근 구매일수록 점수가 높게 부여됩니다. \n",
    "\n",
    "- Frequency(빈도) : 고객이 일정 기간 동안 구매한 빈도를 나타내며, 구매 횟수가 많을수록 점수가 높게 부여됩니다. \n",
    "\n",
    "- Monetary(금액) : 고객이 일정 기간 동안 구매한 총 금액을 나타내며, 구매 금액이 많을수록 점수가 높게 부여됩니다.\n"
   ]
  },
  {
   "cell_type": "code",
   "execution_count": 1,
   "id": "9d888d5f",
   "metadata": {},
   "outputs": [],
   "source": [
    "import pandas as pd\n",
    "import numpy as np\n",
    "import seaborn as sns\n",
    "import datetime as dt\n",
    "import matplotlib.pyplot as plt"
   ]
  },
  {
   "cell_type": "code",
   "execution_count": 5,
   "id": "7c819600",
   "metadata": {},
   "outputs": [],
   "source": [
    "file_oct = 'data/2019-Oct_downcast.parquet.gzip'\n",
    "file_nov = 'data/2019-Nov_downcast.parquet.gzip'"
   ]
  },
  {
   "cell_type": "code",
   "execution_count": 7,
   "id": "ae366a5f",
   "metadata": {},
   "outputs": [
    {
     "data": {
      "text/plain": [
       "((42448764, 7), (67501979, 7))"
      ]
     },
     "execution_count": 7,
     "metadata": {},
     "output_type": "execute_result"
    }
   ],
   "source": [
    "df_oct = pd.read_parquet(file_oct)\n",
    "df_nov = pd.read_parquet(file_nov)\n",
    "\n",
    "df_oct.shape, df_nov.shape"
   ]
  },
  {
   "cell_type": "code",
   "execution_count": 8,
   "id": "7695d291",
   "metadata": {},
   "outputs": [],
   "source": [
    "df_oct = df_oct.sample(1000000)\n",
    "df_nov = df_nov.sample(1000000)"
   ]
  },
  {
   "cell_type": "code",
   "execution_count": 9,
   "id": "761c1559",
   "metadata": {},
   "outputs": [
    {
     "data": {
      "text/plain": [
       "(2000000, 7)"
      ]
     },
     "execution_count": 9,
     "metadata": {},
     "output_type": "execute_result"
    }
   ],
   "source": [
    "temp_list=[df_oct, df_nov]\n",
    "\n",
    "df = pd.concat(temp_list)\n",
    "df.shape"
   ]
  },
  {
   "cell_type": "code",
   "execution_count": 10,
   "id": "766f897f",
   "metadata": {},
   "outputs": [
    {
     "data": {
      "text/plain": [
       "Index(['event_time', 'event_type', 'product_id', 'category_id', 'brand',\n",
       "       'price', 'user_id'],\n",
       "      dtype='object')"
      ]
     },
     "execution_count": 10,
     "metadata": {},
     "output_type": "execute_result"
    }
   ],
   "source": [
    "df.columns"
   ]
  },
  {
   "cell_type": "markdown",
   "id": "6b81f684",
   "metadata": {},
   "source": [
    "### ARPU\n",
    "- user_id를 nunique() 한 값으로 전체 매출을 나누면 된다."
   ]
  },
  {
   "cell_type": "code",
   "execution_count": 11,
   "id": "0a7355ba",
   "metadata": {},
   "outputs": [
    {
     "data": {
      "text/html": [
       "<div>\n",
       "<style scoped>\n",
       "    .dataframe tbody tr th:only-of-type {\n",
       "        vertical-align: middle;\n",
       "    }\n",
       "\n",
       "    .dataframe tbody tr th {\n",
       "        vertical-align: top;\n",
       "    }\n",
       "\n",
       "    .dataframe thead th {\n",
       "        text-align: right;\n",
       "    }\n",
       "</style>\n",
       "<table border=\"1\" class=\"dataframe\">\n",
       "  <thead>\n",
       "    <tr style=\"text-align: right;\">\n",
       "      <th></th>\n",
       "      <th>product_id</th>\n",
       "      <th>category_id</th>\n",
       "      <th>price</th>\n",
       "      <th>user_id</th>\n",
       "    </tr>\n",
       "  </thead>\n",
       "  <tbody>\n",
       "    <tr>\n",
       "      <th>count</th>\n",
       "      <td>2.000000e+06</td>\n",
       "      <td>2.000000e+06</td>\n",
       "      <td>2.000000e+06</td>\n",
       "      <td>2.000000e+06</td>\n",
       "    </tr>\n",
       "    <tr>\n",
       "      <th>mean</th>\n",
       "      <td>1.152671e+07</td>\n",
       "      <td>2.057640e+18</td>\n",
       "      <td>2.913590e+02</td>\n",
       "      <td>5.360797e+08</td>\n",
       "    </tr>\n",
       "    <tr>\n",
       "      <th>std</th>\n",
       "      <td>1.484455e+07</td>\n",
       "      <td>1.929241e+16</td>\n",
       "      <td>3.564713e+02</td>\n",
       "      <td>2.098970e+07</td>\n",
       "    </tr>\n",
       "    <tr>\n",
       "      <th>min</th>\n",
       "      <td>1.000978e+06</td>\n",
       "      <td>2.053014e+18</td>\n",
       "      <td>0.000000e+00</td>\n",
       "      <td>2.951588e+07</td>\n",
       "    </tr>\n",
       "    <tr>\n",
       "      <th>25%</th>\n",
       "      <td>1.005239e+06</td>\n",
       "      <td>2.053014e+18</td>\n",
       "      <td>6.744000e+01</td>\n",
       "      <td>5.162049e+08</td>\n",
       "    </tr>\n",
       "    <tr>\n",
       "      <th>50%</th>\n",
       "      <td>5.100375e+06</td>\n",
       "      <td>2.053014e+18</td>\n",
       "      <td>1.649300e+02</td>\n",
       "      <td>5.320238e+08</td>\n",
       "    </tr>\n",
       "    <tr>\n",
       "      <th>75%</th>\n",
       "      <td>1.690004e+07</td>\n",
       "      <td>2.053014e+18</td>\n",
       "      <td>3.601100e+02</td>\n",
       "      <td>5.553521e+08</td>\n",
       "    </tr>\n",
       "    <tr>\n",
       "      <th>max</th>\n",
       "      <td>1.000284e+08</td>\n",
       "      <td>2.187708e+18</td>\n",
       "      <td>2.574070e+03</td>\n",
       "      <td>5.799675e+08</td>\n",
       "    </tr>\n",
       "  </tbody>\n",
       "</table>\n",
       "</div>"
      ],
      "text/plain": [
       "         product_id   category_id         price       user_id\n",
       "count  2.000000e+06  2.000000e+06  2.000000e+06  2.000000e+06\n",
       "mean   1.152671e+07  2.057640e+18  2.913590e+02  5.360797e+08\n",
       "std    1.484455e+07  1.929241e+16  3.564713e+02  2.098970e+07\n",
       "min    1.000978e+06  2.053014e+18  0.000000e+00  2.951588e+07\n",
       "25%    1.005239e+06  2.053014e+18  6.744000e+01  5.162049e+08\n",
       "50%    5.100375e+06  2.053014e+18  1.649300e+02  5.320238e+08\n",
       "75%    1.690004e+07  2.053014e+18  3.601100e+02  5.553521e+08\n",
       "max    1.000284e+08  2.187708e+18  2.574070e+03  5.799675e+08"
      ]
     },
     "execution_count": 11,
     "metadata": {},
     "output_type": "execute_result"
    }
   ],
   "source": [
    "# price에 음수가 없다.\n",
    "df.describe()"
   ]
  },
  {
   "cell_type": "code",
   "execution_count": 19,
   "id": "c54157ba",
   "metadata": {},
   "outputs": [
    {
     "data": {
      "text/plain": [
       "['view', 'purchase', 'cart']\n",
       "Categories (3, object): ['cart', 'purchase', 'view']"
      ]
     },
     "execution_count": 19,
     "metadata": {},
     "output_type": "execute_result"
    }
   ],
   "source": [
    "df['event_type'].unique()"
   ]
  },
  {
   "cell_type": "code",
   "execution_count": 25,
   "id": "f798241a",
   "metadata": {},
   "outputs": [
    {
     "data": {
      "text/plain": [
       "39852037    True\n",
       "37171442    True\n",
       "11254167    True\n",
       "42304852    True\n",
       "15041714    True\n",
       "Name: event_time, dtype: bool"
      ]
     },
     "execution_count": 25,
     "metadata": {},
     "output_type": "execute_result"
    }
   ],
   "source": [
    "df['event_time'].head(5).astype(str).str[:7] == '2019-10'"
   ]
  },
  {
   "cell_type": "code",
   "execution_count": null,
   "id": "b52b5ed9",
   "metadata": {},
   "outputs": [],
   "source": []
  },
  {
   "cell_type": "code",
   "execution_count": 17,
   "id": "7d972d53",
   "metadata": {},
   "outputs": [],
   "source": [
    "df_temp = pd.DataFrame({'ARPU': [0, 0],\n",
    "                        'ARPPU':[0, 0]},\n",
    "                       index=['2019-10', '2019-11'])"
   ]
  },
  {
   "cell_type": "code",
   "execution_count": 28,
   "id": "3f3e40fa",
   "metadata": {},
   "outputs": [],
   "source": [
    "# ARPU\n",
    "df_temp.iloc[0, 0] = (df.loc[(df['event_time'].astype(str).str[:7] == '2019-10')\n",
    "                            &(df['event_type'] == 'purchase'), 'price'].sum() / \n",
    "                      df.loc[df['event_time'].astype(str).str[:7] == '2019-10', 'user_id'].nunique())\n",
    "\n",
    "df_temp.iloc[1, 0] = (df.loc[(df['event_time'].astype(str).str[:7] == '2019-11')\n",
    "                            &(df['event_type'] == 'purchase'), 'price'].sum() / \n",
    "                      df.loc[df['event_time'].astype(str).str[:7] == '2019-11', 'user_id'].nunique())"
   ]
  },
  {
   "cell_type": "code",
   "execution_count": 31,
   "id": "844d35c5",
   "metadata": {},
   "outputs": [],
   "source": [
    "# ARPPU\n",
    "df_temp.iloc[0, 1] = (df.loc[(df['event_time'].astype(str).str[:7] == '2019-10')\n",
    "                            &(df['event_type'] == 'purchase'), 'price'].sum() / \n",
    "                      df.loc[(df['event_time'].astype(str).str[:7] == '2019-10')&\n",
    "                             (df['event_type'] == 'purchase'), 'user_id'].nunique())\n",
    "\n",
    "df_temp.iloc[1, 1] = (df.loc[(df['event_time'].astype(str).str[:7] == '2019-11')\n",
    "                            &(df['event_type'] == 'purchase'), 'price'].sum() / \n",
    "                      df.loc[(df['event_time'].astype(str).str[:7] == '2019-11')&\n",
    "                             (df['event_type'] == 'purchase'), 'user_id'].nunique())"
   ]
  },
  {
   "cell_type": "code",
   "execution_count": 32,
   "id": "690fd600",
   "metadata": {},
   "outputs": [
    {
     "data": {
      "text/html": [
       "<div>\n",
       "<style scoped>\n",
       "    .dataframe tbody tr th:only-of-type {\n",
       "        vertical-align: middle;\n",
       "    }\n",
       "\n",
       "    .dataframe tbody tr th {\n",
       "        vertical-align: top;\n",
       "    }\n",
       "\n",
       "    .dataframe thead th {\n",
       "        text-align: right;\n",
       "    }\n",
       "</style>\n",
       "<table border=\"1\" class=\"dataframe\">\n",
       "  <thead>\n",
       "    <tr style=\"text-align: right;\">\n",
       "      <th></th>\n",
       "      <th>ARPU</th>\n",
       "      <th>ARPPU</th>\n",
       "    </tr>\n",
       "  </thead>\n",
       "  <tbody>\n",
       "    <tr>\n",
       "      <th>2019-10</th>\n",
       "      <td>8.90</td>\n",
       "      <td>328.98</td>\n",
       "    </tr>\n",
       "    <tr>\n",
       "      <th>2019-11</th>\n",
       "      <td>6.58</td>\n",
       "      <td>316.76</td>\n",
       "    </tr>\n",
       "  </tbody>\n",
       "</table>\n",
       "</div>"
      ],
      "text/plain": [
       "         ARPU   ARPPU\n",
       "2019-10  8.90  328.98\n",
       "2019-11  6.58  316.76"
      ]
     },
     "execution_count": 32,
     "metadata": {},
     "output_type": "execute_result"
    }
   ],
   "source": [
    "df_temp.round(2)"
   ]
  },
  {
   "cell_type": "markdown",
   "id": "0bbd0bd8",
   "metadata": {},
   "source": [
    "### DAU, MAU\n",
    "- 날짜별 그룹화하여 user_id를 nunique하면 된다.\n",
    "- 달로 그룹화하여 user_id를 nunique() 하면 된다."
   ]
  },
  {
   "cell_type": "code",
   "execution_count": 35,
   "id": "a98ddc28",
   "metadata": {},
   "outputs": [
    {
     "data": {
      "text/plain": [
       "39852037    2019-10-29\n",
       "37171442    2019-10-27\n",
       "11254167    2019-10-09\n",
       "42304852    2019-10-31\n",
       "15041714    2019-10-12\n",
       "               ...    \n",
       "51467325    2019-11-21\n",
       "46737640    2019-11-18\n",
       "57810319    2019-11-25\n",
       "5217831     2019-11-04\n",
       "21285178    2019-11-13\n",
       "Name: day, Length: 2000000, dtype: object"
      ]
     },
     "execution_count": 35,
     "metadata": {},
     "output_type": "execute_result"
    }
   ],
   "source": [
    "df['day'] = df['event_time'].astype(str).str[:10]\n",
    "df['day']"
   ]
  },
  {
   "cell_type": "code",
   "execution_count": 36,
   "id": "b10df807",
   "metadata": {},
   "outputs": [
    {
     "data": {
      "text/plain": [
       "39852037    10\n",
       "37171442    10\n",
       "11254167    10\n",
       "42304852    10\n",
       "15041714    10\n",
       "            ..\n",
       "51467325    11\n",
       "46737640    11\n",
       "57810319    11\n",
       "5217831     11\n",
       "21285178    11\n",
       "Name: month, Length: 2000000, dtype: int64"
      ]
     },
     "execution_count": 36,
     "metadata": {},
     "output_type": "execute_result"
    }
   ],
   "source": [
    "df['month'] = df['event_time'].dt.month\n",
    "df['month']"
   ]
  },
  {
   "cell_type": "code",
   "execution_count": 38,
   "id": "39528b0c",
   "metadata": {},
   "outputs": [
    {
     "data": {
      "text/html": [
       "<div>\n",
       "<style scoped>\n",
       "    .dataframe tbody tr th:only-of-type {\n",
       "        vertical-align: middle;\n",
       "    }\n",
       "\n",
       "    .dataframe tbody tr th {\n",
       "        vertical-align: top;\n",
       "    }\n",
       "\n",
       "    .dataframe thead th {\n",
       "        text-align: right;\n",
       "    }\n",
       "</style>\n",
       "<table border=\"1\" class=\"dataframe\">\n",
       "  <thead>\n",
       "    <tr style=\"text-align: right;\">\n",
       "      <th></th>\n",
       "      <th>user_id</th>\n",
       "    </tr>\n",
       "    <tr>\n",
       "      <th>day</th>\n",
       "      <th></th>\n",
       "    </tr>\n",
       "  </thead>\n",
       "  <tbody>\n",
       "    <tr>\n",
       "      <th>2019-10-01</th>\n",
       "      <td>23928</td>\n",
       "    </tr>\n",
       "    <tr>\n",
       "      <th>2019-10-02</th>\n",
       "      <td>23157</td>\n",
       "    </tr>\n",
       "    <tr>\n",
       "      <th>2019-10-03</th>\n",
       "      <td>21699</td>\n",
       "    </tr>\n",
       "    <tr>\n",
       "      <th>2019-10-04</th>\n",
       "      <td>27317</td>\n",
       "    </tr>\n",
       "    <tr>\n",
       "      <th>2019-10-05</th>\n",
       "      <td>25198</td>\n",
       "    </tr>\n",
       "    <tr>\n",
       "      <th>...</th>\n",
       "      <td>...</td>\n",
       "    </tr>\n",
       "    <tr>\n",
       "      <th>2019-11-26</th>\n",
       "      <td>21315</td>\n",
       "    </tr>\n",
       "    <tr>\n",
       "      <th>2019-11-27</th>\n",
       "      <td>21246</td>\n",
       "    </tr>\n",
       "    <tr>\n",
       "      <th>2019-11-28</th>\n",
       "      <td>21440</td>\n",
       "    </tr>\n",
       "    <tr>\n",
       "      <th>2019-11-29</th>\n",
       "      <td>23868</td>\n",
       "    </tr>\n",
       "    <tr>\n",
       "      <th>2019-11-30</th>\n",
       "      <td>22376</td>\n",
       "    </tr>\n",
       "  </tbody>\n",
       "</table>\n",
       "<p>61 rows × 1 columns</p>\n",
       "</div>"
      ],
      "text/plain": [
       "            user_id\n",
       "day                \n",
       "2019-10-01    23928\n",
       "2019-10-02    23157\n",
       "2019-10-03    21699\n",
       "2019-10-04    27317\n",
       "2019-10-05    25198\n",
       "...             ...\n",
       "2019-11-26    21315\n",
       "2019-11-27    21246\n",
       "2019-11-28    21440\n",
       "2019-11-29    23868\n",
       "2019-11-30    22376\n",
       "\n",
       "[61 rows x 1 columns]"
      ]
     },
     "execution_count": 38,
     "metadata": {},
     "output_type": "execute_result"
    }
   ],
   "source": [
    "df_dau = df.groupby('day').agg({'user_id' : 'nunique'})\n",
    "df_dau"
   ]
  },
  {
   "cell_type": "code",
   "execution_count": 64,
   "id": "3ca66ad4",
   "metadata": {},
   "outputs": [
    {
     "data": {
      "text/plain": [
       "<AxesSubplot:xlabel='day', ylabel='user_id'>"
      ]
     },
     "execution_count": 64,
     "metadata": {},
     "output_type": "execute_result"
    },
    {
     "data": {
      "image/png": "[encoded data removed]",
      "text/plain": [
       "<Figure size 2000x400 with 1 Axes>"
      ]
     },
     "metadata": {},
     "output_type": "display_data"
    }
   ],
   "source": [
    "plt.figure(figsize=(20, 4))\n",
    "sns.barplot(data=df_dau.iloc[:10], x=df_dau.index, y = df_dau['user_id'])"
   ]
  },
  {
   "cell_type": "code",
   "execution_count": 71,
   "id": "72096ccb",
   "metadata": {},
   "outputs": [
    {
     "data": {
      "text/plain": [
       "<AxesSubplot:xlabel='day', ylabel='user_id'>"
      ]
     },
     "execution_count": 71,
     "metadata": {},
     "output_type": "execute_result"
    },
    {
     "data": {
      "image/png": "[encoded data removed]",
      "text/plain": [
       "<Figure size 5000x600 with 1 Axes>"
      ]
     },
     "metadata": {},
     "output_type": "display_data"
    }
   ],
   "source": [
    "df_dau_oct = df_dau.iloc[:31]\n",
    "plt.figure(figsize=(50, 6))\n",
    "sns.barplot(data=df_dau_oct, x=df_dau_oct.index, y = df_dau_oct['user_id'])"
   ]
  },
  {
   "cell_type": "code",
   "execution_count": 72,
   "id": "a7c0d27c",
   "metadata": {},
   "outputs": [
    {
     "data": {
      "text/plain": [
       "<AxesSubplot:xlabel='day', ylabel='user_id'>"
      ]
     },
     "execution_count": 72,
     "metadata": {},
     "output_type": "execute_result"
    },
    {
     "data": {
      "image/png": "[encoded data removed]",
      "text/plain": [
       "<Figure size 5000x600 with 1 Axes>"
      ]
     },
     "metadata": {},
     "output_type": "display_data"
    }
   ],
   "source": [
    "df_dau_nov = df_dau.iloc[31:]\n",
    "plt.figure(figsize=(50, 6))\n",
    "sns.barplot(data=df_dau_nov, x=df_dau_nov.index, y = df_dau_nov['user_id'])"
   ]
  },
  {
   "cell_type": "code",
   "execution_count": 77,
   "id": "0a46f78b",
   "metadata": {},
   "outputs": [
    {
     "data": {
      "text/plain": [
       "<AxesSubplot:xlabel='month'>"
      ]
     },
     "execution_count": 77,
     "metadata": {},
     "output_type": "execute_result"
    },
    {
     "data": {
      "image/png": "[encoded data removed]",
      "text/plain": [
       "<Figure size 640x480 with 1 Axes>"
      ]
     },
     "metadata": {},
     "output_type": "display_data"
    }
   ],
   "source": [
    "df_mou = df.groupby('month').agg({'user_id':'nunique'})\n",
    "df_mou.plot.bar(rot=0)"
   ]
  },
  {
   "cell_type": "code",
   "execution_count": null,
   "id": "4974a974",
   "metadata": {},
   "outputs": [],
   "source": []
  }
 ],
 "metadata": {
  "kernelspec": {
   "display_name": "Python 3 (ipykernel)",
   "language": "python",
   "name": "python3"
  },
  "language_info": {
   "codemirror_mode": {
    "name": "ipython",
    "version": 3
   },
   "file_extension": ".py",
   "mimetype": "text/x-python",
   "name": "python",
   "nbconvert_exporter": "python",
   "pygments_lexer": "ipython3",
   "version": "3.9.13"
  }
 },
 "nbformat": 4,
 "nbformat_minor": 5
}
