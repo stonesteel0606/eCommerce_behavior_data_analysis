{
 "cells": [
  {
   "cell_type": "markdown",
   "id": "d138780f",
   "metadata": {},
   "source": [
    "### ARPU(Average Revenue Per User)\n",
    "\n",
    ": 인당 평균 매출/\n",
    "말 그대로  사용자 1명당 매출   \n",
    "user_id를 nunique() 한 값으로 전체 매출을 나누면 된다.\n",
    "\n",
    "​\n",
    "\n",
    "### ARPPU(Average Revenue Per Paying User)\n",
    "\n",
    ":  결제자 인당 평균 매출로 \n",
    "\n",
    "위에 ARPU 달리 결제자  만  대상으로 함  \n",
    "구매한 사람의 nunique() 값으로 전체 매출을 나누면 된다  \n",
    "[출처] [WIL] 데이터 분석가도 알아야 해요 마케팅 용어1|작성자 어쩌다 망상가  \n",
    "\n",
    "\n",
    "​\n",
    "\n",
    "\n",
    "### DAU(​Daily Active Users)\n",
    "\n",
    ":하루 동안 해당 서비스를 이용한 순수한 이용자 수를 나타내는 지표.   \n",
    "날짜별 그룹화하여 user_id를 nunique하면 된다.\n",
    "\n",
    "\n",
    "​\n",
    "\n",
    "\n",
    "### MAU(​Monthly Active Users)\n",
    "\n",
    ":한 달 동안 해당 서비스를 이용한 순수한 이용자 수를 나타내는 지표.  \n",
    "\n",
    "달로 그룹화하여 user_id를 nunique() 하면 된다.  \n",
    "[출처] [WIL] 데이터 분석가도 알아야 해요 마케팅 용어1|작성자 어쩌다 망상가\n",
    "\n",
    "\n",
    "​\n",
    "\n",
    "\n",
    "RFM 분석은 고객 분석 방법 중 하나로, 고객의 거래 내역 데이터를 기반으로 고객을 분류하는 기법입니다.  \n",
    "RFM은 Recency, Frequency, Monetary의 약어로 각각 최근성, 빈도, 금액을 의미합니다.  \n",
    "\n",
    "- Recency(최근성) : 고객이 얼마나 최근에 구매를 했는지를 나타내며, 최근 구매일수록 점수가 높게 부여됩니다. \n",
    "\n",
    "- Frequency(빈도) : 고객이 일정 기간 동안 구매한 빈도를 나타내며, 구매 횟수가 많을수록 점수가 높게 부여됩니다. \n",
    "\n",
    "- Monetary(금액) : 고객이 일정 기간 동안 구매한 총 금액을 나타내며, 구매 금액이 많을수록 점수가 높게 부여됩니다.\n"
   ]
  },
  {
   "cell_type": "code",
   "execution_count": 1,
   "id": "9d888d5f",
   "metadata": {},
   "outputs": [],
   "source": [
    "import pandas as pd\n",
    "import numpy as np\n",
    "import seaborn as sns\n",
    "import datetime as dt\n",
    "import matplotlib.pyplot as plt\n"
   ]
  },
  {
   "cell_type": "code",
   "execution_count": 2,
   "id": "7c819600",
   "metadata": {},
   "outputs": [],
   "source": [
    "file_oct = 'data/2019-Oct_downcast.parquet.gzip'\n",
    "file_nov = 'data/2019-Nov_downcast.parquet.gzip'"
   ]
  },
  {
   "cell_type": "code",
   "execution_count": 3,
   "id": "ae366a5f",
   "metadata": {},
   "outputs": [
    {
     "data": {
      "text/plain": [
       "((42413435, 4), (67392010, 4))"
      ]
     },
     "execution_count": 3,
     "metadata": {},
     "output_type": "execute_result"
    }
   ],
   "source": [
    "df_oct = pd.read_parquet(file_oct)\n",
    "df_nov = pd.read_parquet(file_nov)\n",
    "\n",
    "df_oct.shape, df_nov.shape"
   ]
  },
  {
   "cell_type": "code",
   "execution_count": 4,
   "id": "e3b7f292",
   "metadata": {},
   "outputs": [
    {
     "name": "stdout",
     "output_type": "stream",
     "text": [
      "<class 'pandas.core.frame.DataFrame'>\n",
      "RangeIndex: 42413435 entries, 0 to 42413434\n",
      "Data columns (total 4 columns):\n",
      " #   Column      Dtype         \n",
      "---  ------      -----         \n",
      " 0   event_time  datetime64[ns]\n",
      " 1   event_type  category      \n",
      " 2   price       float32       \n",
      " 3   user_id     int64         \n",
      "dtypes: category(1), datetime64[ns](1), float32(1), int64(1)\n",
      "memory usage: 849.4 MB\n",
      "<class 'pandas.core.frame.DataFrame'>\n",
      "RangeIndex: 67392010 entries, 0 to 67392009\n",
      "Data columns (total 4 columns):\n",
      " #   Column      Dtype              \n",
      "---  ------      -----              \n",
      " 0   event_time  datetime64[ns, UTC]\n",
      " 1   event_type  category           \n",
      " 2   price       float32            \n",
      " 3   user_id     int64              \n",
      "dtypes: category(1), datetime64[ns, UTC](1), float32(1), int64(1)\n",
      "memory usage: 1.3 GB\n"
     ]
    },
    {
     "data": {
      "text/plain": [
       "(None, None)"
      ]
     },
     "execution_count": 4,
     "metadata": {},
     "output_type": "execute_result"
    }
   ],
   "source": [
    "df_oct.info(), df_nov.info()"
   ]
  },
  {
   "cell_type": "markdown",
   "id": "6b81f684",
   "metadata": {},
   "source": [
    "### ARPU\n",
    "- user_id를 nunique() 한 값으로 전체 매출을 나누면 된다."
   ]
  },
  {
   "cell_type": "code",
   "execution_count": 5,
   "id": "c54157ba",
   "metadata": {},
   "outputs": [
    {
     "data": {
      "text/plain": [
       "['view', 'purchase', 'cart']\n",
       "Categories (3, object): ['cart', 'purchase', 'view']"
      ]
     },
     "execution_count": 5,
     "metadata": {},
     "output_type": "execute_result"
    }
   ],
   "source": [
    "df_oct['event_type'].unique()"
   ]
  },
  {
   "cell_type": "code",
   "execution_count": 6,
   "id": "7d972d53",
   "metadata": {},
   "outputs": [],
   "source": [
    "# ARPU, ARPPU dataframe 생성\n",
    "df_arpu_arppu = pd.DataFrame({'ARPU': [0, 0],\n",
    "                        'ARPPU':[0, 0]},\n",
    "                       index=['2019-10', '2019-11'])"
   ]
  },
  {
   "cell_type": "code",
   "execution_count": 7,
   "id": "3f3e40fa",
   "metadata": {},
   "outputs": [],
   "source": [
    "# ARPU\n",
    "df_arpu_arppu.iloc[0, 0] = (df_oct.loc[df_oct['event_type'] == 'purchase', 'price'].sum() / \n",
    "                            df_oct['user_id'].nunique())\n",
    "\n",
    "df_arpu_arppu.iloc[1, 0] = (df_nov.loc[df_nov['event_type'] == 'purchase', 'price'].sum() / \n",
    "                            df_nov['user_id'].nunique())"
   ]
  },
  {
   "cell_type": "code",
   "execution_count": 8,
   "id": "844d35c5",
   "metadata": {},
   "outputs": [],
   "source": [
    "# ARPPU\n",
    "df_arpu_arppu.iloc[0, 1] = (df_oct.loc[df_oct['event_type'] == 'purchase', 'price'].sum() / \n",
    "                            df_oct.loc[df_oct['event_type'] == 'purchase','user_id'].nunique())\n",
    "\n",
    "df_arpu_arppu.iloc[1, 1] = (df_nov.loc[df_nov['event_type'] == 'purchase', 'price'].sum() / \n",
    "                            df_nov.loc[df_nov['event_type'] == 'purchase','user_id'].nunique())"
   ]
  },
  {
   "cell_type": "code",
   "execution_count": 9,
   "id": "690fd600",
   "metadata": {},
   "outputs": [
    {
     "data": {
      "text/html": [
       "<div>\n",
       "<style scoped>\n",
       "    .dataframe tbody tr th:only-of-type {\n",
       "        vertical-align: middle;\n",
       "    }\n",
       "\n",
       "    .dataframe tbody tr th {\n",
       "        vertical-align: top;\n",
       "    }\n",
       "\n",
       "    .dataframe thead th {\n",
       "        text-align: right;\n",
       "    }\n",
       "</style>\n",
       "<table border=\"1\" class=\"dataframe\">\n",
       "  <thead>\n",
       "    <tr style=\"text-align: right;\">\n",
       "      <th></th>\n",
       "      <th>ARPU</th>\n",
       "      <th>ARPPU</th>\n",
       "    </tr>\n",
       "  </thead>\n",
       "  <tbody>\n",
       "    <tr>\n",
       "      <th>2019-10</th>\n",
       "      <td>76.08</td>\n",
       "      <td>662.41</td>\n",
       "    </tr>\n",
       "    <tr>\n",
       "      <th>2019-11</th>\n",
       "      <td>74.45</td>\n",
       "      <td>623.12</td>\n",
       "    </tr>\n",
       "  </tbody>\n",
       "</table>\n",
       "</div>"
      ],
      "text/plain": [
       "          ARPU   ARPPU\n",
       "2019-10  76.08  662.41\n",
       "2019-11  74.45  623.12"
      ]
     },
     "execution_count": 9,
     "metadata": {},
     "output_type": "execute_result"
    }
   ],
   "source": [
    "df_arpu_arppu.round(2)"
   ]
  },
  {
   "cell_type": "code",
   "execution_count": 47,
   "id": "abc37ede",
   "metadata": {},
   "outputs": [
    {
     "data": {
      "text/plain": [
       "Text(0.5, 1.0, 'ARPU')"
      ]
     },
     "execution_count": 47,
     "metadata": {},
     "output_type": "execute_result"
    },
    {
     "data": {
      "image/png": "[encoded data removed]",
      "text/plain": [
       "<Figure size 640x480 with 1 Axes>"
      ]
     },
     "metadata": {},
     "output_type": "display_data"
    }
   ],
   "source": [
    "plt.figure()\n",
    "ax = sns.barplot(data=df_arpu_arppu, x=df_arpu_arppu.index, y=df_arpu_arppu['ARPU'])\n",
    "ax.bar_label(ax.containers[0], fmt='%.1f')\n",
    "plt.title('ARPU')"
   ]
  },
  {
   "cell_type": "code",
   "execution_count": 48,
   "id": "7100ac49",
   "metadata": {},
   "outputs": [
    {
     "data": {
      "text/plain": [
       "Text(0.5, 1.0, 'ARPPU')"
      ]
     },
     "execution_count": 48,
     "metadata": {},
     "output_type": "execute_result"
    },
    {
     "data": {
      "image/png": "[encoded data removed]",
      "text/plain": [
       "<Figure size 640x480 with 1 Axes>"
      ]
     },
     "metadata": {},
     "output_type": "display_data"
    }
   ],
   "source": [
    "plt.figure()\n",
    "ax = sns.barplot(data=df_arpu_arppu, x=df_arpu_arppu.index, y=df_arpu_arppu['ARPPU'])\n",
    "ax.bar_label(ax.containers[0], fmt='%.1f')\n",
    "plt.title('ARPPU')"
   ]
  },
  {
   "cell_type": "code",
   "execution_count": 16,
   "id": "9e109946",
   "metadata": {},
   "outputs": [
    {
     "data": {
      "text/plain": [
       "{'OCt_sales': '229,933,232', 'Nov_sales': '275,193,088'}"
      ]
     },
     "execution_count": 16,
     "metadata": {},
     "output_type": "execute_result"
    }
   ],
   "source": [
    "{'OCt_sales' : format(df_oct.loc[df_oct['event_type'] == 'purchase', 'price'].sum(), ',.0f'), \n",
    "'Nov_sales' : format(df_nov.loc[df_nov['event_type'] == 'purchase', 'price'].sum(), ',.0f')}"
   ]
  },
  {
   "cell_type": "markdown",
   "id": "0bbd0bd8",
   "metadata": {},
   "source": [
    "### DAU, MAU\n",
    "- 날짜별 그룹화하여 user_id를 nunique하면 된다.\n",
    "- 달로 그룹화하여 user_id를 nunique() 하면 된다."
   ]
  },
  {
   "cell_type": "code",
   "execution_count": 17,
   "id": "a98ddc28",
   "metadata": {},
   "outputs": [],
   "source": [
    "df_oct['day'] = df_oct['event_time'].dt.day"
   ]
  },
  {
   "cell_type": "code",
   "execution_count": 18,
   "id": "2e12fcaa",
   "metadata": {},
   "outputs": [],
   "source": [
    "df_nov['day'] = df_nov['event_time'].dt.day"
   ]
  },
  {
   "cell_type": "code",
   "execution_count": 19,
   "id": "39528b0c",
   "metadata": {},
   "outputs": [],
   "source": [
    "df_oct_dau = df_oct.groupby('day').agg({'user_id' : 'nunique'})\n",
    "df_nov_dau = df_nov.groupby('day').agg({'user_id' : 'nunique'})"
   ]
  },
  {
   "cell_type": "code",
   "execution_count": 20,
   "id": "3ca66ad4",
   "metadata": {},
   "outputs": [
    {
     "data": {
      "text/plain": [
       "Text(0.5, 1.0, 'DAU_Oct')"
      ]
     },
     "execution_count": 20,
     "metadata": {},
     "output_type": "execute_result"
    },
    {
     "data": {
      "image/png": "[encoded data removed]",
      "text/plain": [
       "<Figure size 1200x500 with 1 Axes>"
      ]
     },
     "metadata": {},
     "output_type": "display_data"
    }
   ],
   "source": [
    "plt.figure(figsize=(12, 5))\n",
    "sns.barplot(data=df_oct_dau, x=df_oct_dau.index, y = df_oct_dau['user_id'])\n",
    "plt.axhline(y = df_oct_dau['user_id'].mean(), ls=':', c='r')\n",
    "plt.title('DAU_Oct')"
   ]
  },
  {
   "cell_type": "code",
   "execution_count": 21,
   "id": "72096ccb",
   "metadata": {},
   "outputs": [
    {
     "data": {
      "text/plain": [
       "Text(0.5, 1.0, 'DAU_Nov')"
      ]
     },
     "execution_count": 21,
     "metadata": {},
     "output_type": "execute_result"
    },
    {
     "data": {
      "image/png": "[encoded data removed]",
      "text/plain": [
       "<Figure size 1200x500 with 1 Axes>"
      ]
     },
     "metadata": {},
     "output_type": "display_data"
    }
   ],
   "source": [
    "plt.figure(figsize=(12, 5))\n",
    "sns.barplot(data=df_nov_dau, x=df_nov_dau.index, y = df_nov_dau['user_id'])\n",
    "plt.axhline(y = df_nov_dau['user_id'].mean(), ls=':', c='r')\n",
    "plt.title('DAU_Nov')"
   ]
  },
  {
   "cell_type": "code",
   "execution_count": 25,
   "id": "0a46f78b",
   "metadata": {},
   "outputs": [
    {
     "data": {
      "text/html": [
       "<div>\n",
       "<style scoped>\n",
       "    .dataframe tbody tr th:only-of-type {\n",
       "        vertical-align: middle;\n",
       "    }\n",
       "\n",
       "    .dataframe tbody tr th {\n",
       "        vertical-align: top;\n",
       "    }\n",
       "\n",
       "    .dataframe thead th {\n",
       "        text-align: right;\n",
       "    }\n",
       "</style>\n",
       "<table border=\"1\" class=\"dataframe\">\n",
       "  <thead>\n",
       "    <tr style=\"text-align: right;\">\n",
       "      <th></th>\n",
       "      <th>Oct</th>\n",
       "      <th>Nov</th>\n",
       "    </tr>\n",
       "  </thead>\n",
       "  <tbody>\n",
       "    <tr>\n",
       "      <th>MOU</th>\n",
       "      <td>3022290.0</td>\n",
       "      <td>3696117.0</td>\n",
       "    </tr>\n",
       "  </tbody>\n",
       "</table>\n",
       "</div>"
      ],
      "text/plain": [
       "           Oct        Nov\n",
       "MOU  3022290.0  3696117.0"
      ]
     },
     "execution_count": 25,
     "metadata": {},
     "output_type": "execute_result"
    }
   ],
   "source": [
    "# MOU\n",
    "df_mou = pd.DataFrame()\n",
    "df_mou.loc['MOU', 'Oct'] = df_oct['user_id'].nunique()\n",
    "df_mou.loc['MOU', 'Nov'] = df_nov['user_id'].nunique()\n",
    "df_mou"
   ]
  },
  {
   "cell_type": "code",
   "execution_count": 61,
   "id": "4974a974",
   "metadata": {},
   "outputs": [
    {
     "data": {
      "image/png": "[encoded data removed]",
      "text/plain": [
       "<Figure size 640x480 with 1 Axes>"
      ]
     },
     "metadata": {},
     "output_type": "display_data"
    }
   ],
   "source": [
    "plt.figure()\n",
    "ax = sns.barplot(data=df_mou.T, x=df_mou.T.index, y='MOU')\n",
    "ax.bar_label(ax.containers[0], fmt='%.0f')\n",
    "plt.title('MOU')\n",
    "plt.show()"
   ]
  }
 ],
 "metadata": {
  "kernelspec": {
   "display_name": "Python 3 (ipykernel)",
   "language": "python",
   "name": "python3"
  },
  "language_info": {
   "codemirror_mode": {
    "name": "ipython",
    "version": 3
   },
   "file_extension": ".py",
   "mimetype": "text/x-python",
   "name": "python",
   "nbconvert_exporter": "python",
   "pygments_lexer": "ipython3",
   "version": "3.9.13"
  }
 },
 "nbformat": 4,
 "nbformat_minor": 5
}
